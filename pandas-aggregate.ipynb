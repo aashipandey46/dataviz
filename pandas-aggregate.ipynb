{
 "cells": [
  {
   "cell_type": "markdown",
   "id": "bcf29b28",
   "metadata": {},
   "source": [
    "**For all the 3 questions I have compared the default plots with my choice of styled graphs.**"
   ]
  },
  {
   "cell_type": "code",
   "execution_count": 8,
   "id": "12195a27",
   "metadata": {},
   "outputs": [],
   "source": [
    "%matplotlib inline\n",
    "import matplotlib\n",
    "import matplotlib.pyplot as plt\n",
    "matplotlib.rcParams[\"font.family\"] = \"sans-serif\" # note, could also use like \"sans-serif\" others, just google\n",
    "import numpy as np\n",
    "import ipywidgets\n",
    "import pandas as pd"
   ]
  },
  {
   "cell_type": "code",
   "execution_count": 9,
   "id": "f9d43154",
   "metadata": {},
   "outputs": [],
   "source": [
    "#reading dataset directly from web and putting it into a variable\n",
    "building_data = pd.read_csv('https://uiuc-ischool-dataviz.github.io/is445_AOUAOG_fall2021/week02/data/building_inventory.csv')"
   ]
  },
  {
   "cell_type": "code",
   "execution_count": 10,
   "id": "08e67758",
   "metadata": {},
   "outputs": [
    {
     "data": {
      "text/html": [
       "<div>\n",
       "<style scoped>\n",
       "    .dataframe tbody tr th:only-of-type {\n",
       "        vertical-align: middle;\n",
       "    }\n",
       "\n",
       "    .dataframe tbody tr th {\n",
       "        vertical-align: top;\n",
       "    }\n",
       "\n",
       "    .dataframe thead th {\n",
       "        text-align: right;\n",
       "    }\n",
       "</style>\n",
       "<table border=\"1\" class=\"dataframe\">\n",
       "  <thead>\n",
       "    <tr style=\"text-align: right;\">\n",
       "      <th></th>\n",
       "      <th>Agency Name</th>\n",
       "      <th>Location Name</th>\n",
       "      <th>Address</th>\n",
       "      <th>City</th>\n",
       "      <th>Zip code</th>\n",
       "      <th>County</th>\n",
       "      <th>Congress Dist</th>\n",
       "      <th>Congressional Full Name</th>\n",
       "      <th>Rep Dist</th>\n",
       "      <th>Rep Full Name</th>\n",
       "      <th>...</th>\n",
       "      <th>Bldg Status</th>\n",
       "      <th>Year Acquired</th>\n",
       "      <th>Year Constructed</th>\n",
       "      <th>Square Footage</th>\n",
       "      <th>Total Floors</th>\n",
       "      <th>Floors Above Grade</th>\n",
       "      <th>Floors Below Grade</th>\n",
       "      <th>Usage Description</th>\n",
       "      <th>Usage Description 2</th>\n",
       "      <th>Usage Description 3</th>\n",
       "    </tr>\n",
       "  </thead>\n",
       "  <tbody>\n",
       "    <tr>\n",
       "      <th>0</th>\n",
       "      <td>Department of Natural Resources</td>\n",
       "      <td>Anderson Lake Conservation Area - Fulton County</td>\n",
       "      <td>Anderson Lake C.a.</td>\n",
       "      <td>Astoria</td>\n",
       "      <td>61501</td>\n",
       "      <td>Fulton</td>\n",
       "      <td>17</td>\n",
       "      <td>Cheri Bustos</td>\n",
       "      <td>93</td>\n",
       "      <td>Hammond Norine K.</td>\n",
       "      <td>...</td>\n",
       "      <td>In Use</td>\n",
       "      <td>1975</td>\n",
       "      <td>1975</td>\n",
       "      <td>144</td>\n",
       "      <td>1</td>\n",
       "      <td>1</td>\n",
       "      <td>0</td>\n",
       "      <td>Unusual</td>\n",
       "      <td>Unusual</td>\n",
       "      <td>Not provided</td>\n",
       "    </tr>\n",
       "    <tr>\n",
       "      <th>1</th>\n",
       "      <td>Department of Natural Resources</td>\n",
       "      <td>Anderson Lake Conservation Area - Fulton County</td>\n",
       "      <td>Anderson Lake C.a.</td>\n",
       "      <td>Astoria</td>\n",
       "      <td>61501</td>\n",
       "      <td>Fulton</td>\n",
       "      <td>17</td>\n",
       "      <td>Cheri Bustos</td>\n",
       "      <td>93</td>\n",
       "      <td>Hammond Norine K.</td>\n",
       "      <td>...</td>\n",
       "      <td>In Use</td>\n",
       "      <td>2004</td>\n",
       "      <td>2004</td>\n",
       "      <td>144</td>\n",
       "      <td>1</td>\n",
       "      <td>1</td>\n",
       "      <td>0</td>\n",
       "      <td>Unusual</td>\n",
       "      <td>Unusual</td>\n",
       "      <td>Not provided</td>\n",
       "    </tr>\n",
       "    <tr>\n",
       "      <th>2</th>\n",
       "      <td>Department of Natural Resources</td>\n",
       "      <td>Anderson Lake Conservation Area - Fulton County</td>\n",
       "      <td>Anderson Lake C.a.</td>\n",
       "      <td>Astoria</td>\n",
       "      <td>61501</td>\n",
       "      <td>Fulton</td>\n",
       "      <td>17</td>\n",
       "      <td>Cheri Bustos</td>\n",
       "      <td>93</td>\n",
       "      <td>Hammond Norine K.</td>\n",
       "      <td>...</td>\n",
       "      <td>In Use</td>\n",
       "      <td>2004</td>\n",
       "      <td>2004</td>\n",
       "      <td>144</td>\n",
       "      <td>1</td>\n",
       "      <td>1</td>\n",
       "      <td>0</td>\n",
       "      <td>Unusual</td>\n",
       "      <td>Unusual</td>\n",
       "      <td>Not provided</td>\n",
       "    </tr>\n",
       "    <tr>\n",
       "      <th>3</th>\n",
       "      <td>Department of Natural Resources</td>\n",
       "      <td>Anderson Lake Conservation Area - Fulton County</td>\n",
       "      <td>Anderson Lake C.a.</td>\n",
       "      <td>Astoria</td>\n",
       "      <td>61501</td>\n",
       "      <td>Fulton</td>\n",
       "      <td>17</td>\n",
       "      <td>Cheri Bustos</td>\n",
       "      <td>93</td>\n",
       "      <td>Hammond Norine K.</td>\n",
       "      <td>...</td>\n",
       "      <td>In Use</td>\n",
       "      <td>2004</td>\n",
       "      <td>2004</td>\n",
       "      <td>144</td>\n",
       "      <td>1</td>\n",
       "      <td>1</td>\n",
       "      <td>0</td>\n",
       "      <td>Unusual</td>\n",
       "      <td>Unusual</td>\n",
       "      <td>Not provided</td>\n",
       "    </tr>\n",
       "    <tr>\n",
       "      <th>4</th>\n",
       "      <td>Department of Natural Resources</td>\n",
       "      <td>Anderson Lake Conservation Area - Fulton County</td>\n",
       "      <td>Anderson Lake C.a.</td>\n",
       "      <td>Astoria</td>\n",
       "      <td>61501</td>\n",
       "      <td>Fulton</td>\n",
       "      <td>17</td>\n",
       "      <td>Cheri Bustos</td>\n",
       "      <td>93</td>\n",
       "      <td>Hammond Norine K.</td>\n",
       "      <td>...</td>\n",
       "      <td>In Use</td>\n",
       "      <td>2004</td>\n",
       "      <td>2004</td>\n",
       "      <td>144</td>\n",
       "      <td>1</td>\n",
       "      <td>1</td>\n",
       "      <td>0</td>\n",
       "      <td>Unusual</td>\n",
       "      <td>Unusual</td>\n",
       "      <td>Not provided</td>\n",
       "    </tr>\n",
       "    <tr>\n",
       "      <th>...</th>\n",
       "      <td>...</td>\n",
       "      <td>...</td>\n",
       "      <td>...</td>\n",
       "      <td>...</td>\n",
       "      <td>...</td>\n",
       "      <td>...</td>\n",
       "      <td>...</td>\n",
       "      <td>...</td>\n",
       "      <td>...</td>\n",
       "      <td>...</td>\n",
       "      <td>...</td>\n",
       "      <td>...</td>\n",
       "      <td>...</td>\n",
       "      <td>...</td>\n",
       "      <td>...</td>\n",
       "      <td>...</td>\n",
       "      <td>...</td>\n",
       "      <td>...</td>\n",
       "      <td>...</td>\n",
       "      <td>...</td>\n",
       "      <td>...</td>\n",
       "    </tr>\n",
       "    <tr>\n",
       "      <th>8857</th>\n",
       "      <td>Department of Transportation</td>\n",
       "      <td>Belvidere Maintenance Storage Facility - Boone...</td>\n",
       "      <td>9797 Illinois Rte. 76</td>\n",
       "      <td>Belvidere</td>\n",
       "      <td>61008</td>\n",
       "      <td>Boone</td>\n",
       "      <td>16</td>\n",
       "      <td>Adam Kinzinger</td>\n",
       "      <td>69</td>\n",
       "      <td>Sosnowski Joe</td>\n",
       "      <td>...</td>\n",
       "      <td>In Use</td>\n",
       "      <td>0</td>\n",
       "      <td>0</td>\n",
       "      <td>432</td>\n",
       "      <td>1</td>\n",
       "      <td>0</td>\n",
       "      <td>0</td>\n",
       "      <td>Storage</td>\n",
       "      <td>NaN</td>\n",
       "      <td>NaN</td>\n",
       "    </tr>\n",
       "    <tr>\n",
       "      <th>8858</th>\n",
       "      <td>Department of Transportation</td>\n",
       "      <td>Belvidere Maintenance Storage Facility - Boone...</td>\n",
       "      <td>9797 Illinois Rte 76</td>\n",
       "      <td>Belvidere</td>\n",
       "      <td>61008</td>\n",
       "      <td>Boone</td>\n",
       "      <td>16</td>\n",
       "      <td>Adam Kinzinger</td>\n",
       "      <td>69</td>\n",
       "      <td>Sosnowski Joe</td>\n",
       "      <td>...</td>\n",
       "      <td>In Use</td>\n",
       "      <td>0</td>\n",
       "      <td>0</td>\n",
       "      <td>330</td>\n",
       "      <td>1</td>\n",
       "      <td>0</td>\n",
       "      <td>0</td>\n",
       "      <td>Storage</td>\n",
       "      <td>NaN</td>\n",
       "      <td>NaN</td>\n",
       "    </tr>\n",
       "    <tr>\n",
       "      <th>8859</th>\n",
       "      <td>Department of Transportation</td>\n",
       "      <td>Quincy Maintenance Storage Facility</td>\n",
       "      <td>800 Koch's Lane</td>\n",
       "      <td>Quincy</td>\n",
       "      <td>62305</td>\n",
       "      <td>Adams</td>\n",
       "      <td>18</td>\n",
       "      <td>Darin M. LaHood</td>\n",
       "      <td>94</td>\n",
       "      <td>Frese Randy E.</td>\n",
       "      <td>...</td>\n",
       "      <td>In Use</td>\n",
       "      <td>0</td>\n",
       "      <td>1987</td>\n",
       "      <td>130</td>\n",
       "      <td>1</td>\n",
       "      <td>0</td>\n",
       "      <td>0</td>\n",
       "      <td>Storage</td>\n",
       "      <td>High Hazard</td>\n",
       "      <td>NaN</td>\n",
       "    </tr>\n",
       "    <tr>\n",
       "      <th>8860</th>\n",
       "      <td>Illinois Community College Board</td>\n",
       "      <td>Illinois Valley Community College - Oglesby</td>\n",
       "      <td>815 North Orlando Smith Avenue</td>\n",
       "      <td>Oglesby</td>\n",
       "      <td>61348</td>\n",
       "      <td>LaSalle</td>\n",
       "      <td>16</td>\n",
       "      <td>Adam Kinzinger</td>\n",
       "      <td>76</td>\n",
       "      <td>Long Jerry Lee</td>\n",
       "      <td>...</td>\n",
       "      <td>In Use</td>\n",
       "      <td>1971</td>\n",
       "      <td>1971</td>\n",
       "      <td>49552</td>\n",
       "      <td>1</td>\n",
       "      <td>1</td>\n",
       "      <td>0</td>\n",
       "      <td>Education</td>\n",
       "      <td>Education</td>\n",
       "      <td>Not provided</td>\n",
       "    </tr>\n",
       "    <tr>\n",
       "      <th>8861</th>\n",
       "      <td>Department of Military Affairs</td>\n",
       "      <td>Peoria Army Aviation Support Facility</td>\n",
       "      <td>2323 S. Airport Rd</td>\n",
       "      <td>Peoria</td>\n",
       "      <td>61607</td>\n",
       "      <td>Peoria</td>\n",
       "      <td>17</td>\n",
       "      <td>Cheri Bustos</td>\n",
       "      <td>92</td>\n",
       "      <td>Gordon-Booth Jehan</td>\n",
       "      <td>...</td>\n",
       "      <td>In Progress</td>\n",
       "      <td>0</td>\n",
       "      <td>2017</td>\n",
       "      <td>288</td>\n",
       "      <td>1</td>\n",
       "      <td>0</td>\n",
       "      <td>0</td>\n",
       "      <td>Utiility &amp; Miscellan</td>\n",
       "      <td>Utiility &amp; Miscellan</td>\n",
       "      <td>NaN</td>\n",
       "    </tr>\n",
       "  </tbody>\n",
       "</table>\n",
       "<p>8862 rows × 22 columns</p>\n",
       "</div>"
      ],
      "text/plain": [
       "                           Agency Name  \\\n",
       "0      Department of Natural Resources   \n",
       "1      Department of Natural Resources   \n",
       "2      Department of Natural Resources   \n",
       "3      Department of Natural Resources   \n",
       "4      Department of Natural Resources   \n",
       "...                                ...   \n",
       "8857      Department of Transportation   \n",
       "8858      Department of Transportation   \n",
       "8859      Department of Transportation   \n",
       "8860  Illinois Community College Board   \n",
       "8861    Department of Military Affairs   \n",
       "\n",
       "                                          Location Name  \\\n",
       "0       Anderson Lake Conservation Area - Fulton County   \n",
       "1       Anderson Lake Conservation Area - Fulton County   \n",
       "2       Anderson Lake Conservation Area - Fulton County   \n",
       "3       Anderson Lake Conservation Area - Fulton County   \n",
       "4       Anderson Lake Conservation Area - Fulton County   \n",
       "...                                                 ...   \n",
       "8857  Belvidere Maintenance Storage Facility - Boone...   \n",
       "8858  Belvidere Maintenance Storage Facility - Boone...   \n",
       "8859                Quincy Maintenance Storage Facility   \n",
       "8860        Illinois Valley Community College - Oglesby   \n",
       "8861              Peoria Army Aviation Support Facility   \n",
       "\n",
       "                             Address       City  Zip code   County  \\\n",
       "0                 Anderson Lake C.a.    Astoria     61501   Fulton   \n",
       "1                 Anderson Lake C.a.    Astoria     61501   Fulton   \n",
       "2                 Anderson Lake C.a.    Astoria     61501   Fulton   \n",
       "3                 Anderson Lake C.a.    Astoria     61501   Fulton   \n",
       "4                 Anderson Lake C.a.    Astoria     61501   Fulton   \n",
       "...                              ...        ...       ...      ...   \n",
       "8857           9797 Illinois Rte. 76  Belvidere     61008    Boone   \n",
       "8858            9797 Illinois Rte 76  Belvidere     61008    Boone   \n",
       "8859                 800 Koch's Lane     Quincy     62305    Adams   \n",
       "8860  815 North Orlando Smith Avenue    Oglesby     61348  LaSalle   \n",
       "8861              2323 S. Airport Rd     Peoria     61607   Peoria   \n",
       "\n",
       "      Congress Dist Congressional Full Name  Rep Dist       Rep Full Name  \\\n",
       "0                17            Cheri Bustos        93   Hammond Norine K.   \n",
       "1                17            Cheri Bustos        93   Hammond Norine K.   \n",
       "2                17            Cheri Bustos        93   Hammond Norine K.   \n",
       "3                17            Cheri Bustos        93   Hammond Norine K.   \n",
       "4                17            Cheri Bustos        93   Hammond Norine K.   \n",
       "...             ...                     ...       ...                 ...   \n",
       "8857             16          Adam Kinzinger        69       Sosnowski Joe   \n",
       "8858             16          Adam Kinzinger        69       Sosnowski Joe   \n",
       "8859             18         Darin M. LaHood        94      Frese Randy E.   \n",
       "8860             16          Adam Kinzinger        76      Long Jerry Lee   \n",
       "8861             17            Cheri Bustos        92  Gordon-Booth Jehan   \n",
       "\n",
       "      ...  Bldg Status Year Acquired Year Constructed  Square Footage  \\\n",
       "0     ...       In Use          1975             1975             144   \n",
       "1     ...       In Use          2004             2004             144   \n",
       "2     ...       In Use          2004             2004             144   \n",
       "3     ...       In Use          2004             2004             144   \n",
       "4     ...       In Use          2004             2004             144   \n",
       "...   ...          ...           ...              ...             ...   \n",
       "8857  ...       In Use             0                0             432   \n",
       "8858  ...       In Use             0                0             330   \n",
       "8859  ...       In Use             0             1987             130   \n",
       "8860  ...       In Use          1971             1971           49552   \n",
       "8861  ...  In Progress             0             2017             288   \n",
       "\n",
       "      Total Floors  Floors Above Grade  Floors Below Grade  \\\n",
       "0                1                   1                   0   \n",
       "1                1                   1                   0   \n",
       "2                1                   1                   0   \n",
       "3                1                   1                   0   \n",
       "4                1                   1                   0   \n",
       "...            ...                 ...                 ...   \n",
       "8857             1                   0                   0   \n",
       "8858             1                   0                   0   \n",
       "8859             1                   0                   0   \n",
       "8860             1                   1                   0   \n",
       "8861             1                   0                   0   \n",
       "\n",
       "         Usage Description   Usage Description 2 Usage Description 3  \n",
       "0                  Unusual               Unusual        Not provided  \n",
       "1                  Unusual               Unusual        Not provided  \n",
       "2                  Unusual               Unusual        Not provided  \n",
       "3                  Unusual               Unusual        Not provided  \n",
       "4                  Unusual               Unusual        Not provided  \n",
       "...                    ...                   ...                 ...  \n",
       "8857               Storage                   NaN                 NaN  \n",
       "8858               Storage                   NaN                 NaN  \n",
       "8859               Storage           High Hazard                 NaN  \n",
       "8860             Education             Education        Not provided  \n",
       "8861  Utiility & Miscellan  Utiility & Miscellan                 NaN  \n",
       "\n",
       "[8862 rows x 22 columns]"
      ]
     },
     "execution_count": 10,
     "metadata": {},
     "output_type": "execute_result"
    }
   ],
   "source": [
    "building_data"
   ]
  },
  {
   "cell_type": "code",
   "execution_count": 11,
   "id": "a06b1071",
   "metadata": {},
   "outputs": [
    {
     "data": {
      "text/plain": [
       "RangeIndex(start=0, stop=8862, step=1)"
      ]
     },
     "execution_count": 11,
     "metadata": {},
     "output_type": "execute_result"
    }
   ],
   "source": [
    "#Checking the total number of rows in the dataset\n",
    "building_data.index"
   ]
  },
  {
   "cell_type": "code",
   "execution_count": 22,
   "id": "56df4189",
   "metadata": {},
   "outputs": [],
   "source": [
    "B = pd.read_csv(\"https://uiuc-ischool-dataviz.github.io/is445_AOUAOG_fall2021/week02/data/building_inventory.csv\",\n",
    "           na_values = {'Square Footage': 0,\n",
    "                       'Year Acquired': 0,\n",
    "                       'Year Constructed': 0}) \n",
    "# replacing 0's with NaN or not-a-number\n",
    "#creating a clean dataset from Buildings dataset"
   ]
  },
  {
   "cell_type": "code",
   "execution_count": 23,
   "id": "0bb91a3f",
   "metadata": {},
   "outputs": [
    {
     "data": {
      "text/html": [
       "<div>\n",
       "<style scoped>\n",
       "    .dataframe tbody tr th:only-of-type {\n",
       "        vertical-align: middle;\n",
       "    }\n",
       "\n",
       "    .dataframe tbody tr th {\n",
       "        vertical-align: top;\n",
       "    }\n",
       "\n",
       "    .dataframe thead th {\n",
       "        text-align: right;\n",
       "    }\n",
       "</style>\n",
       "<table border=\"1\" class=\"dataframe\">\n",
       "  <thead>\n",
       "    <tr style=\"text-align: right;\">\n",
       "      <th></th>\n",
       "      <th>Agency Name</th>\n",
       "      <th>Location Name</th>\n",
       "      <th>Address</th>\n",
       "      <th>City</th>\n",
       "      <th>Zip code</th>\n",
       "      <th>County</th>\n",
       "      <th>Congress Dist</th>\n",
       "      <th>Congressional Full Name</th>\n",
       "      <th>Rep Dist</th>\n",
       "      <th>Rep Full Name</th>\n",
       "      <th>...</th>\n",
       "      <th>Bldg Status</th>\n",
       "      <th>Year Acquired</th>\n",
       "      <th>Year Constructed</th>\n",
       "      <th>Square Footage</th>\n",
       "      <th>Total Floors</th>\n",
       "      <th>Floors Above Grade</th>\n",
       "      <th>Floors Below Grade</th>\n",
       "      <th>Usage Description</th>\n",
       "      <th>Usage Description 2</th>\n",
       "      <th>Usage Description 3</th>\n",
       "    </tr>\n",
       "  </thead>\n",
       "  <tbody>\n",
       "    <tr>\n",
       "      <th>0</th>\n",
       "      <td>Department of Natural Resources</td>\n",
       "      <td>Anderson Lake Conservation Area - Fulton County</td>\n",
       "      <td>Anderson Lake C.a.</td>\n",
       "      <td>Astoria</td>\n",
       "      <td>61501</td>\n",
       "      <td>Fulton</td>\n",
       "      <td>17</td>\n",
       "      <td>Cheri Bustos</td>\n",
       "      <td>93</td>\n",
       "      <td>Hammond Norine K.</td>\n",
       "      <td>...</td>\n",
       "      <td>In Use</td>\n",
       "      <td>1975.0</td>\n",
       "      <td>1975.0</td>\n",
       "      <td>144.0</td>\n",
       "      <td>1</td>\n",
       "      <td>1</td>\n",
       "      <td>0</td>\n",
       "      <td>Unusual</td>\n",
       "      <td>Unusual</td>\n",
       "      <td>Not provided</td>\n",
       "    </tr>\n",
       "    <tr>\n",
       "      <th>1</th>\n",
       "      <td>Department of Natural Resources</td>\n",
       "      <td>Anderson Lake Conservation Area - Fulton County</td>\n",
       "      <td>Anderson Lake C.a.</td>\n",
       "      <td>Astoria</td>\n",
       "      <td>61501</td>\n",
       "      <td>Fulton</td>\n",
       "      <td>17</td>\n",
       "      <td>Cheri Bustos</td>\n",
       "      <td>93</td>\n",
       "      <td>Hammond Norine K.</td>\n",
       "      <td>...</td>\n",
       "      <td>In Use</td>\n",
       "      <td>2004.0</td>\n",
       "      <td>2004.0</td>\n",
       "      <td>144.0</td>\n",
       "      <td>1</td>\n",
       "      <td>1</td>\n",
       "      <td>0</td>\n",
       "      <td>Unusual</td>\n",
       "      <td>Unusual</td>\n",
       "      <td>Not provided</td>\n",
       "    </tr>\n",
       "    <tr>\n",
       "      <th>2</th>\n",
       "      <td>Department of Natural Resources</td>\n",
       "      <td>Anderson Lake Conservation Area - Fulton County</td>\n",
       "      <td>Anderson Lake C.a.</td>\n",
       "      <td>Astoria</td>\n",
       "      <td>61501</td>\n",
       "      <td>Fulton</td>\n",
       "      <td>17</td>\n",
       "      <td>Cheri Bustos</td>\n",
       "      <td>93</td>\n",
       "      <td>Hammond Norine K.</td>\n",
       "      <td>...</td>\n",
       "      <td>In Use</td>\n",
       "      <td>2004.0</td>\n",
       "      <td>2004.0</td>\n",
       "      <td>144.0</td>\n",
       "      <td>1</td>\n",
       "      <td>1</td>\n",
       "      <td>0</td>\n",
       "      <td>Unusual</td>\n",
       "      <td>Unusual</td>\n",
       "      <td>Not provided</td>\n",
       "    </tr>\n",
       "    <tr>\n",
       "      <th>3</th>\n",
       "      <td>Department of Natural Resources</td>\n",
       "      <td>Anderson Lake Conservation Area - Fulton County</td>\n",
       "      <td>Anderson Lake C.a.</td>\n",
       "      <td>Astoria</td>\n",
       "      <td>61501</td>\n",
       "      <td>Fulton</td>\n",
       "      <td>17</td>\n",
       "      <td>Cheri Bustos</td>\n",
       "      <td>93</td>\n",
       "      <td>Hammond Norine K.</td>\n",
       "      <td>...</td>\n",
       "      <td>In Use</td>\n",
       "      <td>2004.0</td>\n",
       "      <td>2004.0</td>\n",
       "      <td>144.0</td>\n",
       "      <td>1</td>\n",
       "      <td>1</td>\n",
       "      <td>0</td>\n",
       "      <td>Unusual</td>\n",
       "      <td>Unusual</td>\n",
       "      <td>Not provided</td>\n",
       "    </tr>\n",
       "    <tr>\n",
       "      <th>4</th>\n",
       "      <td>Department of Natural Resources</td>\n",
       "      <td>Anderson Lake Conservation Area - Fulton County</td>\n",
       "      <td>Anderson Lake C.a.</td>\n",
       "      <td>Astoria</td>\n",
       "      <td>61501</td>\n",
       "      <td>Fulton</td>\n",
       "      <td>17</td>\n",
       "      <td>Cheri Bustos</td>\n",
       "      <td>93</td>\n",
       "      <td>Hammond Norine K.</td>\n",
       "      <td>...</td>\n",
       "      <td>In Use</td>\n",
       "      <td>2004.0</td>\n",
       "      <td>2004.0</td>\n",
       "      <td>144.0</td>\n",
       "      <td>1</td>\n",
       "      <td>1</td>\n",
       "      <td>0</td>\n",
       "      <td>Unusual</td>\n",
       "      <td>Unusual</td>\n",
       "      <td>Not provided</td>\n",
       "    </tr>\n",
       "    <tr>\n",
       "      <th>...</th>\n",
       "      <td>...</td>\n",
       "      <td>...</td>\n",
       "      <td>...</td>\n",
       "      <td>...</td>\n",
       "      <td>...</td>\n",
       "      <td>...</td>\n",
       "      <td>...</td>\n",
       "      <td>...</td>\n",
       "      <td>...</td>\n",
       "      <td>...</td>\n",
       "      <td>...</td>\n",
       "      <td>...</td>\n",
       "      <td>...</td>\n",
       "      <td>...</td>\n",
       "      <td>...</td>\n",
       "      <td>...</td>\n",
       "      <td>...</td>\n",
       "      <td>...</td>\n",
       "      <td>...</td>\n",
       "      <td>...</td>\n",
       "      <td>...</td>\n",
       "    </tr>\n",
       "    <tr>\n",
       "      <th>8857</th>\n",
       "      <td>Department of Transportation</td>\n",
       "      <td>Belvidere Maintenance Storage Facility - Boone...</td>\n",
       "      <td>9797 Illinois Rte. 76</td>\n",
       "      <td>Belvidere</td>\n",
       "      <td>61008</td>\n",
       "      <td>Boone</td>\n",
       "      <td>16</td>\n",
       "      <td>Adam Kinzinger</td>\n",
       "      <td>69</td>\n",
       "      <td>Sosnowski Joe</td>\n",
       "      <td>...</td>\n",
       "      <td>In Use</td>\n",
       "      <td>NaN</td>\n",
       "      <td>NaN</td>\n",
       "      <td>432.0</td>\n",
       "      <td>1</td>\n",
       "      <td>0</td>\n",
       "      <td>0</td>\n",
       "      <td>Storage</td>\n",
       "      <td>NaN</td>\n",
       "      <td>NaN</td>\n",
       "    </tr>\n",
       "    <tr>\n",
       "      <th>8858</th>\n",
       "      <td>Department of Transportation</td>\n",
       "      <td>Belvidere Maintenance Storage Facility - Boone...</td>\n",
       "      <td>9797 Illinois Rte 76</td>\n",
       "      <td>Belvidere</td>\n",
       "      <td>61008</td>\n",
       "      <td>Boone</td>\n",
       "      <td>16</td>\n",
       "      <td>Adam Kinzinger</td>\n",
       "      <td>69</td>\n",
       "      <td>Sosnowski Joe</td>\n",
       "      <td>...</td>\n",
       "      <td>In Use</td>\n",
       "      <td>NaN</td>\n",
       "      <td>NaN</td>\n",
       "      <td>330.0</td>\n",
       "      <td>1</td>\n",
       "      <td>0</td>\n",
       "      <td>0</td>\n",
       "      <td>Storage</td>\n",
       "      <td>NaN</td>\n",
       "      <td>NaN</td>\n",
       "    </tr>\n",
       "    <tr>\n",
       "      <th>8859</th>\n",
       "      <td>Department of Transportation</td>\n",
       "      <td>Quincy Maintenance Storage Facility</td>\n",
       "      <td>800 Koch's Lane</td>\n",
       "      <td>Quincy</td>\n",
       "      <td>62305</td>\n",
       "      <td>Adams</td>\n",
       "      <td>18</td>\n",
       "      <td>Darin M. LaHood</td>\n",
       "      <td>94</td>\n",
       "      <td>Frese Randy E.</td>\n",
       "      <td>...</td>\n",
       "      <td>In Use</td>\n",
       "      <td>NaN</td>\n",
       "      <td>1987.0</td>\n",
       "      <td>130.0</td>\n",
       "      <td>1</td>\n",
       "      <td>0</td>\n",
       "      <td>0</td>\n",
       "      <td>Storage</td>\n",
       "      <td>High Hazard</td>\n",
       "      <td>NaN</td>\n",
       "    </tr>\n",
       "    <tr>\n",
       "      <th>8860</th>\n",
       "      <td>Illinois Community College Board</td>\n",
       "      <td>Illinois Valley Community College - Oglesby</td>\n",
       "      <td>815 North Orlando Smith Avenue</td>\n",
       "      <td>Oglesby</td>\n",
       "      <td>61348</td>\n",
       "      <td>LaSalle</td>\n",
       "      <td>16</td>\n",
       "      <td>Adam Kinzinger</td>\n",
       "      <td>76</td>\n",
       "      <td>Long Jerry Lee</td>\n",
       "      <td>...</td>\n",
       "      <td>In Use</td>\n",
       "      <td>1971.0</td>\n",
       "      <td>1971.0</td>\n",
       "      <td>49552.0</td>\n",
       "      <td>1</td>\n",
       "      <td>1</td>\n",
       "      <td>0</td>\n",
       "      <td>Education</td>\n",
       "      <td>Education</td>\n",
       "      <td>Not provided</td>\n",
       "    </tr>\n",
       "    <tr>\n",
       "      <th>8861</th>\n",
       "      <td>Department of Military Affairs</td>\n",
       "      <td>Peoria Army Aviation Support Facility</td>\n",
       "      <td>2323 S. Airport Rd</td>\n",
       "      <td>Peoria</td>\n",
       "      <td>61607</td>\n",
       "      <td>Peoria</td>\n",
       "      <td>17</td>\n",
       "      <td>Cheri Bustos</td>\n",
       "      <td>92</td>\n",
       "      <td>Gordon-Booth Jehan</td>\n",
       "      <td>...</td>\n",
       "      <td>In Progress</td>\n",
       "      <td>NaN</td>\n",
       "      <td>2017.0</td>\n",
       "      <td>288.0</td>\n",
       "      <td>1</td>\n",
       "      <td>0</td>\n",
       "      <td>0</td>\n",
       "      <td>Utiility &amp; Miscellan</td>\n",
       "      <td>Utiility &amp; Miscellan</td>\n",
       "      <td>NaN</td>\n",
       "    </tr>\n",
       "  </tbody>\n",
       "</table>\n",
       "<p>8862 rows × 22 columns</p>\n",
       "</div>"
      ],
      "text/plain": [
       "                           Agency Name  \\\n",
       "0      Department of Natural Resources   \n",
       "1      Department of Natural Resources   \n",
       "2      Department of Natural Resources   \n",
       "3      Department of Natural Resources   \n",
       "4      Department of Natural Resources   \n",
       "...                                ...   \n",
       "8857      Department of Transportation   \n",
       "8858      Department of Transportation   \n",
       "8859      Department of Transportation   \n",
       "8860  Illinois Community College Board   \n",
       "8861    Department of Military Affairs   \n",
       "\n",
       "                                          Location Name  \\\n",
       "0       Anderson Lake Conservation Area - Fulton County   \n",
       "1       Anderson Lake Conservation Area - Fulton County   \n",
       "2       Anderson Lake Conservation Area - Fulton County   \n",
       "3       Anderson Lake Conservation Area - Fulton County   \n",
       "4       Anderson Lake Conservation Area - Fulton County   \n",
       "...                                                 ...   \n",
       "8857  Belvidere Maintenance Storage Facility - Boone...   \n",
       "8858  Belvidere Maintenance Storage Facility - Boone...   \n",
       "8859                Quincy Maintenance Storage Facility   \n",
       "8860        Illinois Valley Community College - Oglesby   \n",
       "8861              Peoria Army Aviation Support Facility   \n",
       "\n",
       "                             Address       City  Zip code   County  \\\n",
       "0                 Anderson Lake C.a.    Astoria     61501   Fulton   \n",
       "1                 Anderson Lake C.a.    Astoria     61501   Fulton   \n",
       "2                 Anderson Lake C.a.    Astoria     61501   Fulton   \n",
       "3                 Anderson Lake C.a.    Astoria     61501   Fulton   \n",
       "4                 Anderson Lake C.a.    Astoria     61501   Fulton   \n",
       "...                              ...        ...       ...      ...   \n",
       "8857           9797 Illinois Rte. 76  Belvidere     61008    Boone   \n",
       "8858            9797 Illinois Rte 76  Belvidere     61008    Boone   \n",
       "8859                 800 Koch's Lane     Quincy     62305    Adams   \n",
       "8860  815 North Orlando Smith Avenue    Oglesby     61348  LaSalle   \n",
       "8861              2323 S. Airport Rd     Peoria     61607   Peoria   \n",
       "\n",
       "      Congress Dist Congressional Full Name  Rep Dist       Rep Full Name  \\\n",
       "0                17            Cheri Bustos        93   Hammond Norine K.   \n",
       "1                17            Cheri Bustos        93   Hammond Norine K.   \n",
       "2                17            Cheri Bustos        93   Hammond Norine K.   \n",
       "3                17            Cheri Bustos        93   Hammond Norine K.   \n",
       "4                17            Cheri Bustos        93   Hammond Norine K.   \n",
       "...             ...                     ...       ...                 ...   \n",
       "8857             16          Adam Kinzinger        69       Sosnowski Joe   \n",
       "8858             16          Adam Kinzinger        69       Sosnowski Joe   \n",
       "8859             18         Darin M. LaHood        94      Frese Randy E.   \n",
       "8860             16          Adam Kinzinger        76      Long Jerry Lee   \n",
       "8861             17            Cheri Bustos        92  Gordon-Booth Jehan   \n",
       "\n",
       "      ...  Bldg Status Year Acquired Year Constructed  Square Footage  \\\n",
       "0     ...       In Use        1975.0           1975.0           144.0   \n",
       "1     ...       In Use        2004.0           2004.0           144.0   \n",
       "2     ...       In Use        2004.0           2004.0           144.0   \n",
       "3     ...       In Use        2004.0           2004.0           144.0   \n",
       "4     ...       In Use        2004.0           2004.0           144.0   \n",
       "...   ...          ...           ...              ...             ...   \n",
       "8857  ...       In Use           NaN              NaN           432.0   \n",
       "8858  ...       In Use           NaN              NaN           330.0   \n",
       "8859  ...       In Use           NaN           1987.0           130.0   \n",
       "8860  ...       In Use        1971.0           1971.0         49552.0   \n",
       "8861  ...  In Progress           NaN           2017.0           288.0   \n",
       "\n",
       "      Total Floors  Floors Above Grade  Floors Below Grade  \\\n",
       "0                1                   1                   0   \n",
       "1                1                   1                   0   \n",
       "2                1                   1                   0   \n",
       "3                1                   1                   0   \n",
       "4                1                   1                   0   \n",
       "...            ...                 ...                 ...   \n",
       "8857             1                   0                   0   \n",
       "8858             1                   0                   0   \n",
       "8859             1                   0                   0   \n",
       "8860             1                   1                   0   \n",
       "8861             1                   0                   0   \n",
       "\n",
       "         Usage Description   Usage Description 2 Usage Description 3  \n",
       "0                  Unusual               Unusual        Not provided  \n",
       "1                  Unusual               Unusual        Not provided  \n",
       "2                  Unusual               Unusual        Not provided  \n",
       "3                  Unusual               Unusual        Not provided  \n",
       "4                  Unusual               Unusual        Not provided  \n",
       "...                    ...                   ...                 ...  \n",
       "8857               Storage                   NaN                 NaN  \n",
       "8858               Storage                   NaN                 NaN  \n",
       "8859               Storage           High Hazard                 NaN  \n",
       "8860             Education             Education        Not provided  \n",
       "8861  Utiility & Miscellan  Utiility & Miscellan                 NaN  \n",
       "\n",
       "[8862 rows x 22 columns]"
      ]
     },
     "execution_count": 23,
     "metadata": {},
     "output_type": "execute_result"
    }
   ],
   "source": [
    "B"
   ]
  },
  {
   "cell_type": "markdown",
   "id": "3b5870d9",
   "metadata": {},
   "source": [
    "**Question 1**\n",
    "\n",
    "Plotting the default chart to show relationship bewtween Year Constructed, Year Acquired "
   ]
  },
  {
   "cell_type": "code",
   "execution_count": 14,
   "id": "84b505e3",
   "metadata": {},
   "outputs": [
    {
     "data": {
      "text/plain": [
       "(8862, 22)"
      ]
     },
     "execution_count": 14,
     "metadata": {},
     "output_type": "execute_result"
    }
   ],
   "source": [
    "B.shape #No. of columns and rows in the cleaned dataset"
   ]
  },
  {
   "cell_type": "code",
   "execution_count": 15,
   "id": "a98091ba",
   "metadata": {},
   "outputs": [
    {
     "data": {
      "text/plain": [
       "8862"
      ]
     },
     "execution_count": 15,
     "metadata": {},
     "output_type": "execute_result"
    }
   ],
   "source": [
    "B['Year Acquired'].size"
   ]
  },
  {
   "cell_type": "code",
   "execution_count": 16,
   "id": "598d6cee",
   "metadata": {},
   "outputs": [
    {
     "data": {
      "text/plain": [
       "8862"
      ]
     },
     "execution_count": 16,
     "metadata": {},
     "output_type": "execute_result"
    }
   ],
   "source": [
    "B['Year Constructed'].size\n",
    "#the number of entries in Year constructed and year acquired are coming same due to the fact that we have replaced 0's with NaN, which is still counted as data entry"
   ]
  },
  {
   "cell_type": "code",
   "execution_count": 17,
   "id": "ea1c5c2e",
   "metadata": {},
   "outputs": [
    {
     "data": {
      "text/plain": [
       "array([1975., 2004., 2000., 1999., 1980., 1997., 1976., 1994., 2001.,\n",
       "       1993., 1970., 1977., 2002., 2006., 1990., 1988., 1998., 1981.,\n",
       "       1995., 1890., 1894., 1896., 1987., 1985., 1753., 1841., 1972.,\n",
       "       1973., 1860., 1986., 1930., 1966., 1946., 1960., 1942., 1983.,\n",
       "       1996., 1978., 1979.,   nan, 1982., 1984., 1974., 1989., 1870.,\n",
       "       1855., 1991., 1913., 1842., 1859., 2003., 1947., 1926., 1910.,\n",
       "       1949., 1963., 1964., 1968., 1929., 1917., 1967., 1920., 2005.,\n",
       "       1885., 1940., 1950., 1958., 1961., 1971., 1992., 1954., 1932.,\n",
       "       1900., 1867., 1956., 1965., 1953., 1907., 1935., 1938., 1951.,\n",
       "       1840., 1962., 2010., 2007., 2011., 1863., 1861., 1955., 1936.,\n",
       "       1934., 1880., 2008., 1959., 1952., 1957., 1948., 1927., 1945.,\n",
       "       1944., 1895., 1933., 1921., 1939., 1925., 1875., 1876., 1969.,\n",
       "       1931., 1903., 1848., 1918., 1922., 1905., 1915., 1886., 1832.,\n",
       "       1908., 1916., 1919., 1937., 1941., 1810., 1883., 1943., 1852.,\n",
       "       1847., 1856., 1878., 1924., 1802., 1844., 1850., 1838., 1891.,\n",
       "       1854., 1843., 1862., 1898., 1901., 1845., 1904., 1839., 1923.,\n",
       "       1837., 1865., 1928., 1872., 1899., 1906., 1879., 1882., 1881.,\n",
       "       1858., 1893., 1897., 1914., 1887., 1892., 1902., 1909., 1911.,\n",
       "       1912., 2009., 1812., 1853., 1830., 1871., 1888., 1873., 2013.,\n",
       "       2012., 2014., 2016., 2015., 1815., 2017., 2018., 2019.])"
      ]
     },
     "execution_count": 17,
     "metadata": {},
     "output_type": "execute_result"
    }
   ],
   "source": [
    "B[\"Year Constructed\"].unique() #unique year of construction"
   ]
  },
  {
   "cell_type": "code",
   "execution_count": 18,
   "id": "7cfed599",
   "metadata": {},
   "outputs": [
    {
     "data": {
      "text/plain": [
       "RangeIndex(start=0, stop=8862, step=1)"
      ]
     },
     "execution_count": 18,
     "metadata": {},
     "output_type": "execute_result"
    }
   ],
   "source": [
    "B.index"
   ]
  },
  {
   "cell_type": "code",
   "execution_count": 26,
   "id": "8f50003d",
   "metadata": {},
   "outputs": [],
   "source": [
    "B.plot?"
   ]
  },
  {
   "cell_type": "code",
   "execution_count": 27,
   "id": "c03f46d9",
   "metadata": {},
   "outputs": [
    {
     "data": {
      "text/plain": [
       "<AxesSubplot:xlabel='Year Constructed'>"
      ]
     },
     "execution_count": 27,
     "metadata": {},
     "output_type": "execute_result"
    },
    {
     "data": {
      "image/png": "[encoded data removed]",
      "text/plain": [
       "<Figure size 1080x720 with 1 Axes>"
      ]
     },
     "metadata": {
      "needs_background": "light"
     },
     "output_type": "display_data"
    }
   ],
   "source": [
    "#this chart is only for Comparision\n",
    "\n",
    "B.plot(x=\"Year Constructed\", y=\"Year Acquired\", figsize=(15,10),marker=\".\")\n",
    "#default line chart"
   ]
  },
  {
   "cell_type": "markdown",
   "id": "b97d8b7c",
   "metadata": {},
   "source": [
    "**Final Graph**"
   ]
  },
  {
   "cell_type": "code",
   "execution_count": 28,
   "id": "ebbcfa52",
   "metadata": {},
   "outputs": [
    {
     "data": {
      "text/plain": [
       "<AxesSubplot:xlabel='Year Constructed', ylabel='Year Acquired'>"
      ]
     },
     "execution_count": 28,
     "metadata": {},
     "output_type": "execute_result"
    },
    {
     "data": {
      "image/png": "[encoded data removed]",
      "text/plain": [
       "<Figure size 1080x720 with 1 Axes>"
      ]
     },
     "metadata": {
      "needs_background": "light"
     },
     "output_type": "display_data"
    }
   ],
   "source": [
    "B.plot(x=\"Year Constructed\", y=\"Year Acquired\", figsize=(15,10), kind='scatter')\n",
    "#scatter plot"
   ]
  },
  {
   "cell_type": "markdown",
   "id": "fb7c9446",
   "metadata": {},
   "source": [
    "I chose Scatter Plot to show relationship bewtween Year constructed and Year Acquired because both the variables are dates and scatter chart shows better correlation compared to default line chart.\n",
    "Before creating Visualization I have Cleaned the data by replacing 0's with NaN because I got wrong calculations because of them.\n",
    "Used simple approach to plot a scatter chart with x axis as Year Constructed and y axis as Year Constructed. As there is not need to use group by function, I simply used plot function from matplotlib. \n",
    "\n",
    "The Chart shows that most of the buildings were acquired at the same time they were constructed. \n",
    "The remaining outlier points are those buildings having Year Constructed values but not Year Acquired.\n",
    "\n",
    "Things worked for me-\n",
    "I was able to understand relationship between two variables by creating the scatter graph.\n",
    "\n",
    "Things that did not work for me-\n",
    "I wanted to distinguish each point on this scatter plot, but manually assigning each point a color was not possible. I will try to find better way to do this."
   ]
  },
  {
   "cell_type": "markdown",
   "id": "feb62452",
   "metadata": {},
   "source": [
    "**Question 2-**\n",
    "\n",
    "Total square footage as a function of building status (\"Bldg Status\")"
   ]
  },
  {
   "cell_type": "code",
   "execution_count": 29,
   "id": "8193f72a",
   "metadata": {},
   "outputs": [],
   "source": [
    "stat2 = B.groupby(\"Bldg Status\")[\"Square Footage\"].sum()\n",
    "#grouping the Square Footage according to the three building status\n",
    "#used sum of Square Footage, grouping by Building Status because we need Total Square Footage"
   ]
  },
  {
   "cell_type": "code",
   "execution_count": 30,
   "id": "453e3c79",
   "metadata": {},
   "outputs": [
    {
     "data": {
      "text/plain": [
       "Bldg Status\n",
       "Abandon         2048290.0\n",
       "In Progress     2314558.0\n",
       "In Use         97337698.0\n",
       "Name: Square Footage, dtype: float64"
      ]
     },
     "execution_count": 30,
     "metadata": {},
     "output_type": "execute_result"
    }
   ],
   "source": [
    "stat2"
   ]
  },
  {
   "cell_type": "code",
   "execution_count": 31,
   "id": "f46859c8",
   "metadata": {},
   "outputs": [
    {
     "data": {
      "text/plain": [
       "Index(['Abandon', 'In Progress', 'In Use'], dtype='object', name='Bldg Status')"
      ]
     },
     "execution_count": 31,
     "metadata": {},
     "output_type": "execute_result"
    }
   ],
   "source": [
    "stat2.index #checking three building status values"
   ]
  },
  {
   "cell_type": "code",
   "execution_count": 32,
   "id": "0f062028",
   "metadata": {},
   "outputs": [
    {
     "data": {
      "text/plain": [
       "Text(0, 0.5, 'Total Square Footage')"
      ]
     },
     "execution_count": 32,
     "metadata": {},
     "output_type": "execute_result"
    },
    {
     "data": {
      "image/png": "[encoded data removed]",
      "text/plain": [
       "<Figure size 432x288 with 1 Axes>"
      ]
     },
     "metadata": {
      "needs_background": "light"
     },
     "output_type": "display_data"
    }
   ],
   "source": [
    "#this chart is only for Comparision\n",
    "#Creating default Line Chart between Building Status and Total Square Footage \n",
    "plt.plot(stat2, marker='.', linewidth = 1.0)\n",
    "plt.xlabel(\"Bldg Status\")\n",
    "plt.ylabel(\"Total Square Footage\")"
   ]
  },
  {
   "cell_type": "code",
   "execution_count": 33,
   "id": "3f9e9419",
   "metadata": {},
   "outputs": [
    {
     "data": {
      "image/png": "[encoded data removed]",
      "text/plain": [
       "<Figure size 720x360 with 1 Axes>"
      ]
     },
     "metadata": {},
     "output_type": "display_data"
    }
   ],
   "source": [
    "#this chart is only for Comparision\n",
    "#using pandas matplotlib to create a pie chart\n",
    "ax = stat2.plot(x = \"Bldg Status\", y=\"Square Footage\", figsize=(10,5), rot=0, kind='pie')\n",
    "ax.set_xlabel('Building Status')\n",
    "ax.set_ylabel('Total Sqaure Footage')\n",
    "ax.set_title('Total square footage as a function of building status')\n",
    "plt.show()"
   ]
  },
  {
   "cell_type": "markdown",
   "id": "dbbfcc9b",
   "metadata": {},
   "source": [
    "**Final Graph**"
   ]
  },
  {
   "cell_type": "code",
   "execution_count": 39,
   "id": "3efe970d",
   "metadata": {},
   "outputs": [
    {
     "data": {
      "application/vnd.jupyter.widget-view+json": {
       "model_id": "51e4c31785784d5bbfafea0057825127",
       "version_major": 2,
       "version_minor": 0
      },
      "text/plain": [
       "interactive(children=(Dropdown(description='type_of_chart', options=('Solarize_Light2', '_classic_test_patch',…"
      ]
     },
     "metadata": {},
     "output_type": "display_data"
    }
   ],
   "source": [
    "#applyting styles and Widget to choose type of chart for same visualization\n",
    "@ipywidgets.interact(type_of_chart = plt.style.available)\n",
    "def make_plot(type_of_chart):\n",
    "    with plt.style.context(type_of_chart):\n",
    "        ax = stat2.plot(x = \"Bldg Status\", y=\"Square Footage\", figsize=(10,5), rot=45, kind='bar', color=['black','red','green'])\n",
    "        ax.set_xlabel('Building Status')\n",
    "        ax.set_ylabel('Total Sqaure Footage')\n",
    "        ax.set_title('Total square footage as a function of building status')\n",
    "plt.show()    "
   ]
  },
  {
   "cell_type": "markdown",
   "id": "cea750ee",
   "metadata": {},
   "source": [
    "I Chose pandas matplotlib to apply stylish widgets and graphs for the visualization. \n",
    "Firstly, I have grouped the Square Footage by three building status and putted it in stat3 variable. Applied sum function because total Square Footage was asked. Then plotted the graph between them using plot method.\n",
    "The type of graph is bar chart because it is most effective chart for categorical data. The bars in every Building Status makes it easy to read the data in Visualization, which is bit wierd in default line chart.\n",
    "\n",
    "Things worked for me-\n",
    "\n",
    "I was able to convert it into Bar grapgh and apply atyles and colors according  to me. I also tried rotating the x-axis labels but just because they were fitting in this time.\n",
    "\n",
    "Things that did not work for me-\n",
    "\n",
    "I was unable to put Text on the top of each bars representing numbers (Square Footage)\n",
    "But as there are only three categories in this chart, it looks good. I wnat to learn better way to represent categorical data for larger dataset. "
   ]
  },
  {
   "cell_type": "markdown",
   "id": "23300769",
   "metadata": {},
   "source": [
    "**Question 3-**\n",
    "\n",
    "Median square footage in each Year Constructed as a function of Year Acquired"
   ]
  },
  {
   "cell_type": "code",
   "execution_count": 82,
   "id": "636b09ec",
   "metadata": {},
   "outputs": [
    {
     "data": {
      "text/plain": [
       "436"
      ]
     },
     "execution_count": 82,
     "metadata": {},
     "output_type": "execute_result"
    }
   ],
   "source": [
    "np.unique(B['Year Acquired']).size #checking unique values"
   ]
  },
  {
   "cell_type": "code",
   "execution_count": 165,
   "id": "4933382b",
   "metadata": {},
   "outputs": [
    {
     "data": {
      "text/plain": [
       "467"
      ]
     },
     "execution_count": 165,
     "metadata": {},
     "output_type": "execute_result"
    }
   ],
   "source": [
    "np.unique(B['Year Constructed']).size #checking unique values\n",
    "#this shows Year COnstructed has more values comapred to year acquired\n",
    "#there are buildings that have been constructed but not acquired"
   ]
  },
  {
   "cell_type": "code",
   "execution_count": 35,
   "id": "5f636259",
   "metadata": {},
   "outputs": [],
   "source": [
    "stat3 = B.groupby(\"Year Constructed\")[[\"Square Footage\",\"Year Acquired\"]].median()\n",
    "#grouping Median of Square Footage per Year Constructed.\n",
    "#also including Year Acquired because we need to plot grapgh as a function of that"
   ]
  },
  {
   "cell_type": "code",
   "execution_count": 36,
   "id": "2f1aa6a7",
   "metadata": {},
   "outputs": [
    {
     "data": {
      "text/html": [
       "<div>\n",
       "<style scoped>\n",
       "    .dataframe tbody tr th:only-of-type {\n",
       "        vertical-align: middle;\n",
       "    }\n",
       "\n",
       "    .dataframe tbody tr th {\n",
       "        vertical-align: top;\n",
       "    }\n",
       "\n",
       "    .dataframe thead th {\n",
       "        text-align: right;\n",
       "    }\n",
       "</style>\n",
       "<table border=\"1\" class=\"dataframe\">\n",
       "  <thead>\n",
       "    <tr style=\"text-align: right;\">\n",
       "      <th></th>\n",
       "      <th>Square Footage</th>\n",
       "      <th>Year Acquired</th>\n",
       "    </tr>\n",
       "    <tr>\n",
       "      <th>Year Constructed</th>\n",
       "      <th></th>\n",
       "      <th></th>\n",
       "    </tr>\n",
       "  </thead>\n",
       "  <tbody>\n",
       "    <tr>\n",
       "      <th>1753.0</th>\n",
       "      <td>2727.5</td>\n",
       "      <td>1930.0</td>\n",
       "    </tr>\n",
       "    <tr>\n",
       "      <th>1802.0</th>\n",
       "      <td>2220.0</td>\n",
       "      <td>1802.0</td>\n",
       "    </tr>\n",
       "    <tr>\n",
       "      <th>1810.0</th>\n",
       "      <td>385.0</td>\n",
       "      <td>1810.0</td>\n",
       "    </tr>\n",
       "    <tr>\n",
       "      <th>1812.0</th>\n",
       "      <td>5500.0</td>\n",
       "      <td>1990.0</td>\n",
       "    </tr>\n",
       "    <tr>\n",
       "      <th>1815.0</th>\n",
       "      <td>800.0</td>\n",
       "      <td>1992.0</td>\n",
       "    </tr>\n",
       "    <tr>\n",
       "      <th>...</th>\n",
       "      <td>...</td>\n",
       "      <td>...</td>\n",
       "    </tr>\n",
       "    <tr>\n",
       "      <th>2015.0</th>\n",
       "      <td>3840.0</td>\n",
       "      <td>2015.0</td>\n",
       "    </tr>\n",
       "    <tr>\n",
       "      <th>2016.0</th>\n",
       "      <td>3600.0</td>\n",
       "      <td>2016.0</td>\n",
       "    </tr>\n",
       "    <tr>\n",
       "      <th>2017.0</th>\n",
       "      <td>660.0</td>\n",
       "      <td>2017.0</td>\n",
       "    </tr>\n",
       "    <tr>\n",
       "      <th>2018.0</th>\n",
       "      <td>2250.0</td>\n",
       "      <td>2018.0</td>\n",
       "    </tr>\n",
       "    <tr>\n",
       "      <th>2019.0</th>\n",
       "      <td>760.0</td>\n",
       "      <td>2019.0</td>\n",
       "    </tr>\n",
       "  </tbody>\n",
       "</table>\n",
       "<p>178 rows × 2 columns</p>\n",
       "</div>"
      ],
      "text/plain": [
       "                  Square Footage  Year Acquired\n",
       "Year Constructed                               \n",
       "1753.0                    2727.5         1930.0\n",
       "1802.0                    2220.0         1802.0\n",
       "1810.0                     385.0         1810.0\n",
       "1812.0                    5500.0         1990.0\n",
       "1815.0                     800.0         1992.0\n",
       "...                          ...            ...\n",
       "2015.0                    3840.0         2015.0\n",
       "2016.0                    3600.0         2016.0\n",
       "2017.0                     660.0         2017.0\n",
       "2018.0                    2250.0         2018.0\n",
       "2019.0                     760.0         2019.0\n",
       "\n",
       "[178 rows x 2 columns]"
      ]
     },
     "execution_count": 36,
     "metadata": {},
     "output_type": "execute_result"
    }
   ],
   "source": [
    "stat3"
   ]
  },
  {
   "cell_type": "code",
   "execution_count": 37,
   "id": "e2868930",
   "metadata": {},
   "outputs": [
    {
     "data": {
      "image/png": "[encoded data removed]",
      "text/plain": [
       "<Figure size 720x720 with 1 Axes>"
      ]
     },
     "metadata": {
      "needs_background": "light"
     },
     "output_type": "display_data"
    }
   ],
   "source": [
    "#this chart is only for Comparision\n",
    "# scatter graph\n",
    "ax = stat3.plot(x = \"Year Acquired\", y=\"Square Footage\", kind='scatter',figsize=(10,10), rot=0)\n",
    "ax.set_xlabel('Year Acquired')\n",
    "ax.set_ylabel('Median Sqaure Footage')\n",
    "ax.set_title('Median square footage in each Year Constructed as a function of Year Acquired')\n",
    "plt.show()"
   ]
  },
  {
   "cell_type": "markdown",
   "id": "a3a30ce9",
   "metadata": {},
   "source": [
    "**Final Graph**"
   ]
  },
  {
   "cell_type": "code",
   "execution_count": 38,
   "id": "76456da3",
   "metadata": {},
   "outputs": [
    {
     "data": {
      "application/vnd.jupyter.widget-view+json": {
       "model_id": "a79cd44592be4756b80abcbc66374a79",
       "version_major": 2,
       "version_minor": 0
      },
      "text/plain": [
       "interactive(children=(Dropdown(description='type_of_chart', options=('Solarize_Light2', '_classic_test_patch',…"
      ]
     },
     "metadata": {},
     "output_type": "display_data"
    }
   ],
   "source": [
    "#scatter plot with widget to choose style of the graph\n",
    "@ipywidgets.interact(type_of_chart = plt.style.available)\n",
    "def make_plot(type_of_chart):\n",
    "    with plt.style.context(type_of_chart):\n",
    "        ax = stat3.plot(x = \"Year Acquired\", y=\"Square Footage\", figsize=(15,10), rot=0, kind='scatter')\n",
    "        ax.set_xlabel('\"Year Acquired\"')\n",
    "        ax.set_ylabel('Median Sqaure Footage')\n",
    "        ax.set_title('Median square footage in each Year Constructed as a function of Year Acquired')\n",
    "plt.show()   "
   ]
  },
  {
   "cell_type": "markdown",
   "id": "afd2d939",
   "metadata": {},
   "source": [
    "Created stat3 variable to group store median Square Footage by per Year Constructed, and included Year Acquired as we need to plot graph as a function of that. \n",
    "I chose Scatter grapgh for this visualization because there two discrete variables. Also, I did tried other graphs such as histogram and bar but they were creating misinterpretation. Like Histogram was giving data in only one bin. That's why I had to end to using Scatter Chart which atleast helps to differentiate all the data points.\n",
    "The graph shows that there are only 2-3 buildings having median Square Footage greater than 100000. \n",
    "\n",
    "Things worked for me-\n",
    "\n",
    "After some attempts I was able to understand grouping tricks for more than two variables. \n",
    "\n",
    "Things that did not work for me-\n",
    "\n",
    "I was unable to understand at first about the NaN values in Year Acquired and how it is mapping with Year Constructed as both columns has different number of data."
   ]
  },
  {
   "cell_type": "code",
   "execution_count": null,
   "id": "685eaa40",
   "metadata": {},
   "outputs": [],
   "source": []
  }
 ],
 "metadata": {
  "kernelspec": {
   "display_name": "Python 3",
   "language": "python",
   "name": "python3"
  },
  "language_info": {
   "codemirror_mode": {
    "name": "ipython",
    "version": 3
   },
   "file_extension": ".py",
   "mimetype": "text/x-python",
   "name": "python",
   "nbconvert_exporter": "python",
   "pygments_lexer": "ipython3",
   "version": "3.8.8"
  }
 },
 "nbformat": 4,
 "nbformat_minor": 5
}
